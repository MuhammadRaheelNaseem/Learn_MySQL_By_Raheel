{
 "cells": [
  {
   "cell_type": "markdown",
   "id": "3a0bc9f6",
   "metadata": {},
   "source": [
    "# Test Connection"
   ]
  },
  {
   "cell_type": "code",
   "execution_count": 8,
   "id": "01a9a565",
   "metadata": {},
   "outputs": [],
   "source": [
    "import mysql.connector\n",
    "\n",
    "db = mysql.connector.connect(user='root',password='admin')"
   ]
  },
  {
   "cell_type": "markdown",
   "id": "35e3252f",
   "metadata": {},
   "source": [
    "# Check Database"
   ]
  },
  {
   "cell_type": "code",
   "execution_count": 9,
   "id": "00ac2cda",
   "metadata": {},
   "outputs": [
    {
     "name": "stdout",
     "output_type": "stream",
     "text": [
      "Database Connected\n"
     ]
    }
   ],
   "source": [
    "import mysql.connector\n",
    "\n",
    "db = mysql.connector.connect(\n",
    "    host=\"localhost\",\n",
    "    user=\"root\",\n",
    "    password=\"admin\"\n",
    ")\n",
    "\n",
    "if db.is_connected():\n",
    "    print(\"Database Connected\")"
   ]
  },
  {
   "cell_type": "markdown",
   "id": "ef8d853a",
   "metadata": {},
   "source": [
    "# Check if Database Exists\n",
    "# What is cursor?\n",
    "A cursor is an object which helps to execute the query and fetch the records from the database. The cursor plays a very important role in executing the query. This article will learn some deep information about the execute methods and how to use those methods in python."
   ]
  },
  {
   "cell_type": "code",
   "execution_count": 29,
   "id": "c8f90856",
   "metadata": {},
   "outputs": [
    {
     "name": "stdout",
     "output_type": "stream",
     "text": [
      "('employee_data',)\n",
      "('employee_data2',)\n",
      "('information_schema',)\n",
      "('iot_b3',)\n",
      "('mysql',)\n",
      "('performance_schema',)\n",
      "('sakila',)\n",
      "('sys',)\n",
      "('world',)\n"
     ]
    }
   ],
   "source": [
    "import mysql.connector\n",
    "\n",
    "db = mysql.connector.connect(\n",
    "    host=\"127.0.0.1\",\n",
    "    user=\"root\",\n",
    "    password=\"admin\"\n",
    ")\n",
    "\n",
    "cur = db.cursor()\n",
    "cur.execute(\"show databases\")\n",
    "\n",
    "for i in cur:\n",
    "    print(i)\n"
   ]
  },
  {
   "cell_type": "markdown",
   "id": "533521d8",
   "metadata": {},
   "source": [
    "# Creating Database"
   ]
  },
  {
   "cell_type": "code",
   "execution_count": 11,
   "id": "3a5e478b",
   "metadata": {},
   "outputs": [
    {
     "name": "stdout",
     "output_type": "stream",
     "text": [
      "Database Created Successful !!!\n"
     ]
    }
   ],
   "source": [
    "import mysql.connector\n",
    "\n",
    "db = mysql.connector.connect(\n",
    "    host=\"127.0.0.1\",\n",
    "    user=\"root\",\n",
    "    password=\"admin\"\n",
    ")\n",
    "\n",
    "cur = db.cursor()\n",
    "cur.execute(\"CREATE DATABASE employee_data2\")\n",
    "\n",
    "print(\"Database Created Successful !!!\")"
   ]
  },
  {
   "cell_type": "markdown",
   "id": "cdefbe1a",
   "metadata": {},
   "source": [
    "# Use Database method #1"
   ]
  },
  {
   "cell_type": "code",
   "execution_count": 1,
   "id": "f75f0c3c",
   "metadata": {},
   "outputs": [],
   "source": [
    "import mysql.connector\n",
    "\n",
    "db = mysql.connector.connect(\n",
    "    host=\"127.0.0.1\",\n",
    "    user=\"root\",\n",
    "    password=\"admin\"\n",
    ")\n",
    "\n",
    "cur = db.cursor()\n",
    "cur.execute(\"use mysql\")"
   ]
  },
  {
   "cell_type": "markdown",
   "id": "8f57b5a2",
   "metadata": {},
   "source": [
    "# Use Database #2"
   ]
  },
  {
   "cell_type": "code",
   "execution_count": 31,
   "id": "8c7afc1e",
   "metadata": {},
   "outputs": [
    {
     "name": "stdout",
     "output_type": "stream",
     "text": [
      "Database Connected\n"
     ]
    }
   ],
   "source": [
    "import mysql.connector\n",
    "\n",
    "db = mysql.connector.connect(\n",
    "    host=\"127.0.0.1\",\n",
    "    user=\"root\",\n",
    "    password=\"admin\",\n",
    "    database='mysql'\n",
    ")\n",
    "if db.is_connected():\n",
    "    print(\"Database Connected\")"
   ]
  },
  {
   "cell_type": "markdown",
   "id": "dbd67abc",
   "metadata": {},
   "source": [
    "# Creating Table"
   ]
  },
  {
   "cell_type": "code",
   "execution_count": 33,
   "id": "7b35e6e4",
   "metadata": {},
   "outputs": [
    {
     "name": "stdout",
     "output_type": "stream",
     "text": [
      "Table Created Successful !!!\n"
     ]
    }
   ],
   "source": [
    "import mysql.connector\n",
    "\n",
    "db = mysql.connector.connect(\n",
    "    host=\"127.0.0.1\",\n",
    "    user=\"root\",\n",
    "    password=\"admin\",\n",
    "    database=\"employee_data\",\n",
    ")\n",
    "\n",
    "cursor = db.cursor()\n",
    "sql = \"\"\"CREATE TABLE customers (\n",
    "  customer_id INT AUTO_INCREMENT PRIMARY KEY,\n",
    "  name VARCHAR(255),\n",
    "  address Varchar(255)\n",
    ")\n",
    "\"\"\"\n",
    "cursor.execute(sql)\n",
    "\n",
    "print(\"Table Created Successful !!!\")"
   ]
  },
  {
   "cell_type": "markdown",
   "id": "cdcdceca",
   "metadata": {},
   "source": [
    "# Check Table"
   ]
  },
  {
   "cell_type": "code",
   "execution_count": 3,
   "id": "96803b14",
   "metadata": {},
   "outputs": [
    {
     "name": "stdout",
     "output_type": "stream",
     "text": [
      "('customers',)\n"
     ]
    }
   ],
   "source": [
    "import mysql.connector\n",
    "\n",
    "mydb = mysql.connector.connect(\n",
    "  host=\"localhost\",\n",
    "  user=\"root\",\n",
    "  password=\"admin\",\n",
    "  database=\"employee_data\"\n",
    ")\n",
    "\n",
    "mycursor = mydb.cursor()\n",
    "\n",
    "mycursor.execute(\"SHOW TABLES\")\n",
    "\n",
    "for x in mycursor:\n",
    "    print(x)"
   ]
  },
  {
   "cell_type": "markdown",
   "id": "c3f057c9",
   "metadata": {},
   "source": [
    "# Insert Values in table"
   ]
  },
  {
   "cell_type": "code",
   "execution_count": 6,
   "id": "8e70e4b5",
   "metadata": {},
   "outputs": [
    {
     "name": "stdout",
     "output_type": "stream",
     "text": [
      "1 data added\n"
     ]
    }
   ],
   "source": [
    "import mysql.connector\n",
    "\n",
    "db = mysql.connector.connect(\n",
    "    host=\"127.0.0.1\",\n",
    "    user=\"root\",\n",
    "    password=\"admin\",\n",
    "    database=\"employee_data\",\n",
    ")\n",
    "\n",
    "cursor = db.cursor()\n",
    "sql = \"INSERT INTO customers (name, address) VALUES (%s, %s)\"\n",
    "values = (\"Alian\",\"Street 5 Jupiter\")\n",
    "\n",
    "# for val in values:\n",
    "#     cursor.execute(sql, val)\n",
    "cursor.execute(sql,values)\n",
    "\n",
    "db.commit()\n",
    "\n",
    "print(\"{} data added\".format(cursor.rowcount))"
   ]
  },
  {
   "cell_type": "markdown",
   "id": "ea2f26f5",
   "metadata": {},
   "source": [
    "# Multi values add in table"
   ]
  },
  {
   "cell_type": "code",
   "execution_count": 2,
   "id": "858109a2",
   "metadata": {},
   "outputs": [
    {
     "name": "stdout",
     "output_type": "stream",
     "text": [
      "5 data added\n"
     ]
    }
   ],
   "source": [
    "import mysql.connector\n",
    "\n",
    "db = mysql.connector.connect(\n",
    "    host=\"127.0.0.1\",\n",
    "    user=\"root\",\n",
    "    password=\"admin\",\n",
    "    database=\"employee_data\",\n",
    ")\n",
    "\n",
    "cursor = db.cursor()\n",
    "sql = \"INSERT INTO customers (name, address) VALUES (%s, %s)\"\n",
    "values = [\n",
    "    (\"Alian\",\"Street 5 Jupiter\"),\n",
    "    (\"Alia\",\"Street 5 Jupiter\"),\n",
    "    (\"Ali\",\"Street 5 Jupiter\"),\n",
    "    (\"john alia\",\"Street 5 Jupiter\"),\n",
    "    (\"Alian\",\"Street 5 Jupiter\")\n",
    "]\n",
    "\n",
    "# for val in values:\n",
    "#     cursor.execute(sql, val)\n",
    "cursor.executemany(sql,values)\n",
    "\n",
    "db.commit()\n",
    "\n",
    "print(\"{} data added\".format(cursor.rowcount))"
   ]
  },
  {
   "cell_type": "markdown",
   "id": "e3f417f3",
   "metadata": {},
   "source": [
    "# show tables (fetch all)"
   ]
  },
  {
   "cell_type": "code",
   "execution_count": 8,
   "id": "0ea89b4c",
   "metadata": {},
   "outputs": [
    {
     "name": "stdout",
     "output_type": "stream",
     "text": [
      "('Canyon 123',)\n",
      "('Canyon 123',)\n",
      "('Canyon 123',)\n",
      "('Magura',)\n",
      "('Ctg',)\n",
      "('Rajshahi',)\n",
      "('Canyon 123',)\n",
      "('Canyon 123',)\n",
      "('Canyon 123',)\n",
      "('Canyon 123',)\n",
      "('Canyon 123',)\n",
      "('Street 5 Jupiter',)\n",
      "('Street 5 Jupiter',)\n",
      "('Street 5 Jupiter',)\n",
      "('Street 5 Jupiter',)\n",
      "('Street 5 Jupiter',)\n"
     ]
    },
    {
     "data": {
      "text/plain": [
       "<mysql.connector.connection.MySQLConnection at 0x255502313c8>"
      ]
     },
     "execution_count": 8,
     "metadata": {},
     "output_type": "execute_result"
    }
   ],
   "source": [
    "import mysql.connector\n",
    "\n",
    "dataBase = mysql.connector.connect(\n",
    "host =\"localhost\",\n",
    "user =\"root\",\n",
    "passwd =\"admin\",\n",
    "database = \"employee_data\"\n",
    ")\n",
    "\n",
    "# preparing a cursor object\n",
    "cursorObject = dataBase.cursor()\n",
    "\n",
    "query = \"SELECT address FROM customers\"\n",
    "cursorObject.execute(query)\n",
    "\n",
    "myresult = cursorObject.fetchall()\n",
    "\n",
    "for x in myresult:\n",
    "    print(x)\n",
    "\n",
    "# disconnecting from server\n",
    "db.close()\n",
    "db"
   ]
  },
  {
   "cell_type": "code",
   "execution_count": 14,
   "id": "88609618",
   "metadata": {
    "scrolled": false
   },
   "outputs": [
    {
     "name": "stdout",
     "output_type": "stream",
     "text": [
      "(1, 'Alian', 'Canyon 123')\n",
      "(2, 'Alian', 'Canyon 123')\n",
      "(3, 'Alian', 'Canyon 123')\n",
      "(4, 'Shakib', 'Magura')\n",
      "(5, 'Tamin', 'Ctg')\n",
      "(7, 'Mushfiq', 'Rajshahi')\n",
      "(8, 'Alian', 'Canyon 123')\n",
      "(9, 'Alian', 'Canyon 123')\n",
      "(10, 'Alian', 'Canyon 123')\n",
      "(11, 'Alian', 'Canyon 123')\n",
      "(12, 'Alian', 'Canyon 123')\n"
     ]
    }
   ],
   "source": [
    "import mysql.connector\n",
    "\n",
    "dataBase = mysql.connector.connect(\n",
    "host =\"localhost\",\n",
    "user =\"root\",\n",
    "passwd =\"admin\",\n",
    "database = \"employee_data\"\n",
    ")\n",
    "\n",
    "# preparing a cursor object\n",
    "cursorObject = dataBase.cursor()\n",
    "\n",
    "query = \"SELECT * FROM customers\"\n",
    "cursorObject.execute(query)\n",
    "\n",
    "myresult = cursorObject.fetchall()\n",
    "\n",
    "for x in myresult:\n",
    "    print(x)\n",
    "\n",
    "# disconnecting from server\n",
    "db.close()\n",
    "# db.commit()"
   ]
  },
  {
   "cell_type": "markdown",
   "id": "ff05a438",
   "metadata": {},
   "source": [
    "# Select Specific Data"
   ]
  },
  {
   "cell_type": "code",
   "execution_count": 12,
   "id": "f53f1bf6",
   "metadata": {},
   "outputs": [
    {
     "name": "stdout",
     "output_type": "stream",
     "text": [
      "(13, 'Alian', 'Street 5 Jupiter')\n",
      "(14, 'Alia', 'Street 5 Jupiter')\n",
      "(15, 'Ali', 'Street 5 Jupiter')\n",
      "(16, 'john alia', 'Street 5 Jupiter')\n",
      "(17, 'Alian', 'Street 5 Jupiter')\n"
     ]
    }
   ],
   "source": [
    "import mysql.connector\n",
    "\n",
    "mydb = mysql.connector.connect(\n",
    "  host=\"localhost\",\n",
    "  user=\"root\",\n",
    "  password=\"admin\",\n",
    "  database=\"employee_data\"\n",
    ")\n",
    "\n",
    "mycursor = mydb.cursor()\n",
    "\n",
    "sql = \"SELECT * FROM customers WHERE address ='Street 5 Jupiter'\"\n",
    "\n",
    "mycursor.execute(sql)\n",
    "\n",
    "myresult = mycursor.fetchall()\n",
    "\n",
    "for x in myresult:\n",
    "    print(x)"
   ]
  },
  {
   "cell_type": "markdown",
   "id": "17a97269",
   "metadata": {},
   "source": [
    "# Delete Specific Data"
   ]
  },
  {
   "cell_type": "code",
   "execution_count": 13,
   "id": "6a19ae09",
   "metadata": {},
   "outputs": [
    {
     "name": "stdout",
     "output_type": "stream",
     "text": [
      "5 record(s) deleted\n"
     ]
    }
   ],
   "source": [
    "import mysql.connector\n",
    "\n",
    "mydb = mysql.connector.connect(\n",
    "  host=\"localhost\",\n",
    "  user=\"root\",\n",
    "  password=\"admin\",\n",
    "  database=\"employee_data\"\n",
    ")\n",
    "\n",
    "mycursor = mydb.cursor()\n",
    "\n",
    "sql = \"DELETE FROM customers WHERE address ='Street 5 Jupiter'\"\n",
    "\n",
    "mycursor.execute(sql)\n",
    "\n",
    "mydb.commit()\n",
    "\n",
    "print(mycursor.rowcount, \"record(s) deleted\")"
   ]
  },
  {
   "cell_type": "markdown",
   "id": "9e31207e",
   "metadata": {},
   "source": [
    "# Update Specific Data"
   ]
  },
  {
   "cell_type": "code",
   "execution_count": 21,
   "id": "70e6a6b1",
   "metadata": {},
   "outputs": [
    {
     "name": "stdout",
     "output_type": "stream",
     "text": [
      "8 record(s) affected\n"
     ]
    }
   ],
   "source": [
    "import mysql.connector\n",
    "\n",
    "mydb = mysql.connector.connect(\n",
    "  host=\"localhost\",\n",
    "  user=\"root\",\n",
    "  password=\"admin\",\n",
    "  database=\"employee_data\"\n",
    ")\n",
    "\n",
    "mycursor = mydb.cursor()\n",
    "\n",
    "sql = \"UPDATE customers SET address = 'Karachi, Pakistan' WHERE address = 'Canyon 123'\"\n",
    "\n",
    "mycursor.execute(sql)\n",
    "\n",
    "mydb.commit()\n",
    "\n",
    "print(mycursor.rowcount, \"record(s) affected\")"
   ]
  },
  {
   "cell_type": "code",
   "execution_count": null,
   "id": "a66ce788",
   "metadata": {},
   "outputs": [],
   "source": []
  },
  {
   "cell_type": "code",
   "execution_count": 22,
   "id": "9466d5d0",
   "metadata": {},
   "outputs": [
    {
     "name": "stdout",
     "output_type": "stream",
     "text": [
      "1.) Add User \n",
      "2.) Show User \n",
      "3.) Delete User \n",
      "4.) Update User \n",
      "5.) Exit \t\t2\n",
      "\n",
      "ID:  1\n",
      "Roll Number:  1001\n",
      "Name:  Muhammad Raheel\n",
      "Father Name:  Muhamamd Naseem\n",
      "Mobile Number:  123456789\n",
      "\n",
      "1.) Add User \n",
      "2.) Show User \n",
      "3.) Delete User \n",
      "4.) Update User \n",
      "5.) Exit \t\t4\n",
      "\n",
      "Enter Roll Number For Searching: 1001\n",
      "Enter Name For Updating: john\n",
      "Enter Father Name For Updating: malton\n",
      "Enter Mobile Number For Updating: 12347928347\n",
      "Data Successfully Changed\n",
      "1.) Add User \n",
      "2.) Show User \n",
      "3.) Delete User \n",
      "4.) Update User \n",
      "5.) Exit \t\t2\n",
      "\n",
      "ID:  1\n",
      "Roll Number:  1001\n",
      "Name:  john\n",
      "Father Name:  malton\n",
      "Mobile Number:  12347928347\n",
      "\n",
      "1.) Add User \n",
      "2.) Show User \n",
      "3.) Delete User \n",
      "4.) Update User \n",
      "5.) Exit \t\t5\n",
      "\n",
      "Database Is Successfully Close\n"
     ]
    }
   ],
   "source": [
    "import mysql.connector\n",
    "\n",
    "db = mysql.connector.connect(host='localhost',user='root',password='admin')\n",
    "\n",
    "cur=db.cursor()\n",
    "cur.execute(\"create database if not exists schools\")\n",
    "cur.execute(\"use schools\")\n",
    "cur.execute(\"create table if not exists lms(Student_ID INT AUTO_INCREMENT PRIMARY KEY,Roll_Number varchar(200),Name varchar(200),Father_Name varchar(200),Mobile_Number varchar(200))\")\n",
    "\n",
    "def add_user():\n",
    "    global cur\n",
    "    rollNum=input(\"Enter Roll Number: \")\n",
    "    Name = input(\"Enter Name: \")\n",
    "    Fname = input(\"Enter Father Name: \")\n",
    "    Num = input(\"Enter Mobile Number: \")\n",
    "    cur.execute(\"insert into lms(Roll_Number,Name,Father_Name,Mobile_Number) values('{}','{}','{}','{}')\".format(rollNum,Name,Fname,Num))\n",
    "    db.commit()\n",
    "    print(\"Data Successfully Added\")\n",
    "    \n",
    "\n",
    "def show_user():\n",
    "    global cur\n",
    "    cur.execute(\"select * from lms\")\n",
    "    show_data=cur.fetchall()\n",
    "    for show in show_data:\n",
    "        print(\"ID: \",show[0])\n",
    "        print(\"Roll Number: \",show[1])\n",
    "        print(\"Name: \",show[2])\n",
    "        print(\"Father Name: \",show[3])\n",
    "        print(\"Mobile Number: \",show[4])\n",
    "        print()\n",
    "    \n",
    "def delete_user():\n",
    "    global cur\n",
    "    r_num=input(\"Enter Roll Number For Delete User: \")\n",
    "    cur.execute(\"delete from lms where Roll_Number = '{}'\".format(r_num))\n",
    "    print(\"Data Delete Successfully\")\n",
    "    db.commit()\n",
    "\n",
    "def update_user():\n",
    "    global cur\n",
    "    rnum=input(\"Enter Roll Number For Searching: \")\n",
    "    nam=input(\"Enter Name For Updating: \")\n",
    "    fnam=input(\"Enter Father Name For Updating: \")\n",
    "    num=input(\"Enter Mobile Number For Updating: \")\n",
    "    cur.execute(\"update lms set Name='{}',Father_Name='{}',Mobile_Number='{}' where Roll_Number='{}'\".format(nam,fnam,num,rnum))\n",
    "    print(\"Data Successfully Changed\")\n",
    "    db.commit()\n",
    "\n",
    "while 1:\n",
    "    select=input(\"\"\"1.) Add User \\n2.) Show User \\n3.) Delete User \\n4.) Update User \\n5.) Exit \\t\\t\"\"\")\n",
    "    print()\n",
    "    if select == '1':\n",
    "        add_user()\n",
    "    elif select == '2':\n",
    "        show_user()\n",
    "    elif select == '3':\n",
    "        delete_user()\n",
    "    elif select == '4':\n",
    "        update_user()\n",
    "    elif select == '5':\n",
    "        print(\"Database Is Successfully Close\")\n",
    "        break\n",
    "    else:\n",
    "        print(\"Invalid Enter!\")"
   ]
  }
 ],
 "metadata": {
  "kernelspec": {
   "display_name": "Python 3 (ipykernel)",
   "language": "python",
   "name": "python3"
  },
  "language_info": {
   "codemirror_mode": {
    "name": "ipython",
    "version": 3
   },
   "file_extension": ".py",
   "mimetype": "text/x-python",
   "name": "python",
   "nbconvert_exporter": "python",
   "pygments_lexer": "ipython3",
   "version": "3.7.11"
  }
 },
 "nbformat": 4,
 "nbformat_minor": 5
}
